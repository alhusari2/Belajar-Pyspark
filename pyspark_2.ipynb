{
  "nbformat": 4,
  "nbformat_minor": 0,
  "metadata": {
    "colab": {
      "provenance": []
    },
    "kernelspec": {
      "name": "python3",
      "display_name": "Python 3"
    },
    "language_info": {
      "name": "python"
    }
  },
  "cells": [
    {
      "cell_type": "markdown",
      "source": [
        "## Pyspark Dataframes"
      ],
      "metadata": {
        "id": "6lpthAEbtrEP"
      }
    },
    {
      "cell_type": "markdown",
      "source": [
        "- Pyspark Dataframe\n",
        "- Reading The Dataset\n",
        "- Checking the Datatypes of Column(Schema)\n",
        "- Selecting Columns and Indexing\n",
        "- Check Describe Option Similar to Pandas\n",
        "- Adding Columns\n",
        "- Dropping Columns"
      ],
      "metadata": {
        "id": "Y35MqjlTuM1Q"
      }
    },
    {
      "cell_type": "code",
      "source": [
        "from pyspark.sql import SparkSession\n",
        "spark2 = SparkSession.builder.appName('DataFrame').getOrCreate()"
      ],
      "metadata": {
        "id": "xyzeN-Y9tqVr"
      },
      "execution_count": null,
      "outputs": []
    },
    {
      "cell_type": "code",
      "source": [
        "spark2"
      ],
      "metadata": {
        "colab": {
          "base_uri": "https://localhost:8080/",
          "height": 219
        },
        "id": "PoTzn6-0ufx7",
        "outputId": "a02bfdfa-e3fc-4bbb-a89b-38705c8e950b"
      },
      "execution_count": null,
      "outputs": [
        {
          "output_type": "execute_result",
          "data": {
            "text/plain": [
              "<pyspark.sql.session.SparkSession at 0x7d106c6a0af0>"
            ],
            "text/html": [
              "\n",
              "            <div>\n",
              "                <p><b>SparkSession - in-memory</b></p>\n",
              "                \n",
              "        <div>\n",
              "            <p><b>SparkContext</b></p>\n",
              "\n",
              "            <p><a href=\"http://2cfd3d318796:4040\">Spark UI</a></p>\n",
              "\n",
              "            <dl>\n",
              "              <dt>Version</dt>\n",
              "                <dd><code>v3.5.0</code></dd>\n",
              "              <dt>Master</dt>\n",
              "                <dd><code>local[*]</code></dd>\n",
              "              <dt>AppName</dt>\n",
              "                <dd><code>pyspark-shell</code></dd>\n",
              "            </dl>\n",
              "        </div>\n",
              "        \n",
              "            </div>\n",
              "        "
            ]
          },
          "metadata": {},
          "execution_count": 7
        }
      ]
    },
    {
      "cell_type": "code",
      "source": [
        "## read the dataset\n",
        "df = spark.read.option('header', 'true').csv('learn2.csv', sep = ';')\n",
        "df"
      ],
      "metadata": {
        "colab": {
          "base_uri": "https://localhost:8080/"
        },
        "id": "qTwNdcDquf0q",
        "outputId": "9dcb3536-7c83-4796-c87a-28ab8482f5d2"
      },
      "execution_count": null,
      "outputs": [
        {
          "output_type": "execute_result",
          "data": {
            "text/plain": [
              "DataFrame[Name: string, Age: string, Experience: string]"
            ]
          },
          "metadata": {},
          "execution_count": 8
        }
      ]
    },
    {
      "cell_type": "code",
      "source": [
        "df.show()"
      ],
      "metadata": {
        "colab": {
          "base_uri": "https://localhost:8080/"
        },
        "id": "TkL0Eg0euf3F",
        "outputId": "ebd9058e-e4a8-4a61-a362-a7f9c86dd47f"
      },
      "execution_count": null,
      "outputs": [
        {
          "output_type": "stream",
          "name": "stdout",
          "text": [
            "+----+---+----------+\n",
            "|Name|Age|Experience|\n",
            "+----+---+----------+\n",
            "|Dian| 20|        10|\n",
            "|Awan| 19|         2|\n",
            "|Ayen| 10|         8|\n",
            "|Amal| 22|         4|\n",
            "+----+---+----------+\n",
            "\n"
          ]
        }
      ]
    },
    {
      "cell_type": "code",
      "source": [
        "## check the schema atau cek type data per kolom\n",
        "df.printSchema()"
      ],
      "metadata": {
        "colab": {
          "base_uri": "https://localhost:8080/"
        },
        "id": "1shxQO18uf5n",
        "outputId": "591770d1-c532-4242-d927-61f371bd9168"
      },
      "execution_count": null,
      "outputs": [
        {
          "output_type": "stream",
          "name": "stdout",
          "text": [
            "root\n",
            " |-- Name: string (nullable = true)\n",
            " |-- Age: string (nullable = true)\n",
            " |-- Experience: string (nullable = true)\n",
            "\n"
          ]
        }
      ]
    },
    {
      "cell_type": "markdown",
      "source": [
        "defaultnya semua bakal string padahal Age dan Experience nilainya int\n",
        "\n",
        "solusinya saat membaca file kita menambahkan inferSchema=True"
      ],
      "metadata": {
        "id": "nTWZGY8tvzKZ"
      }
    },
    {
      "cell_type": "code",
      "source": [
        "## read the dataset\n",
        "df = spark.read.option('header', 'true').csv('learn2.csv', sep = ';', inferSchema=True)\n",
        "df"
      ],
      "metadata": {
        "colab": {
          "base_uri": "https://localhost:8080/"
        },
        "id": "KWaHK0RCuf8L",
        "outputId": "26c65cd8-994b-45b7-a3a4-d80f6814e211"
      },
      "execution_count": null,
      "outputs": [
        {
          "output_type": "execute_result",
          "data": {
            "text/plain": [
              "DataFrame[Name: string, Age: int, Experience: int]"
            ]
          },
          "metadata": {},
          "execution_count": 11
        }
      ]
    },
    {
      "cell_type": "code",
      "source": [
        "df.printSchema()"
      ],
      "metadata": {
        "colab": {
          "base_uri": "https://localhost:8080/"
        },
        "id": "26LgYKy-uf-4",
        "outputId": "2462d0aa-eb7f-442c-9f26-5ec8c83ac64a"
      },
      "execution_count": null,
      "outputs": [
        {
          "output_type": "stream",
          "name": "stdout",
          "text": [
            "root\n",
            " |-- Name: string (nullable = true)\n",
            " |-- Age: integer (nullable = true)\n",
            " |-- Experience: integer (nullable = true)\n",
            "\n"
          ]
        }
      ]
    },
    {
      "cell_type": "code",
      "source": [
        "## cara lain membaca file\n",
        "df = spark.read.csv('learn2.csv', header = True, sep =';', inferSchema=True)\n",
        "df.show()"
      ],
      "metadata": {
        "colab": {
          "base_uri": "https://localhost:8080/"
        },
        "id": "DjjrTaYXwGej",
        "outputId": "316bcec7-c4cb-48cb-8439-30ef5979e0c4"
      },
      "execution_count": null,
      "outputs": [
        {
          "output_type": "stream",
          "name": "stdout",
          "text": [
            "+----+---+----------+\n",
            "|Name|Age|Experience|\n",
            "+----+---+----------+\n",
            "|Dian| 20|        10|\n",
            "|Awan| 19|         2|\n",
            "|Ayen| 10|         8|\n",
            "|Amal| 22|         4|\n",
            "+----+---+----------+\n",
            "\n"
          ]
        }
      ]
    },
    {
      "cell_type": "code",
      "source": [
        "# cek type data per kolom\n",
        "df.printSchema()"
      ],
      "metadata": {
        "colab": {
          "base_uri": "https://localhost:8080/"
        },
        "id": "IcUGwKEowXaJ",
        "outputId": "4c9fde48-58c5-448f-b551-19e95e0aac3d"
      },
      "execution_count": null,
      "outputs": [
        {
          "output_type": "stream",
          "name": "stdout",
          "text": [
            "root\n",
            " |-- Name: string (nullable = true)\n",
            " |-- Age: integer (nullable = true)\n",
            " |-- Experience: integer (nullable = true)\n",
            "\n"
          ]
        }
      ]
    },
    {
      "cell_type": "code",
      "source": [
        "type(df)"
      ],
      "metadata": {
        "colab": {
          "base_uri": "https://localhost:8080/"
        },
        "id": "neVrQsCjwbT5",
        "outputId": "5e447d80-1821-4120-a420-2c208ac35f95"
      },
      "execution_count": null,
      "outputs": [
        {
          "output_type": "execute_result",
          "data": {
            "text/plain": [
              "pyspark.sql.dataframe.DataFrame"
            ]
          },
          "metadata": {},
          "execution_count": 15
        }
      ]
    },
    {
      "cell_type": "code",
      "source": [
        "# Selecting Columns and Indexing\n",
        "df.columns"
      ],
      "metadata": {
        "id": "lhpyVJHzwjke",
        "colab": {
          "base_uri": "https://localhost:8080/"
        },
        "outputId": "165490af-eca6-4059-9c44-c189a8d2adf1"
      },
      "execution_count": null,
      "outputs": [
        {
          "output_type": "execute_result",
          "data": {
            "text/plain": [
              "['Name', 'Age', 'Experience']"
            ]
          },
          "metadata": {},
          "execution_count": 18
        }
      ]
    },
    {
      "cell_type": "code",
      "source": [
        "df.head(3)\n",
        "# dia outputnya itu berupa list format kalo di pandas kita outputnya dataframe"
      ],
      "metadata": {
        "colab": {
          "base_uri": "https://localhost:8080/"
        },
        "id": "9S5SMfWauBXw",
        "outputId": "efbec3b7-524b-4a77-9020-1cb89c6e0229"
      },
      "execution_count": null,
      "outputs": [
        {
          "output_type": "execute_result",
          "data": {
            "text/plain": [
              "[Row(Name='Dian', Age=20, Experience=10),\n",
              " Row(Name='Awan', Age=19, Experience=2),\n",
              " Row(Name='Ayen', Age=10, Experience=8)]"
            ]
          },
          "metadata": {},
          "execution_count": 23
        }
      ]
    },
    {
      "cell_type": "code",
      "source": [
        "df.show(2)\n",
        "# ini outputnya berupa sql.dataframe"
      ],
      "metadata": {
        "colab": {
          "base_uri": "https://localhost:8080/"
        },
        "id": "Vg_kS2QZuLWC",
        "outputId": "abd90012-2ec2-466e-fd4b-85ec943f0438"
      },
      "execution_count": null,
      "outputs": [
        {
          "output_type": "stream",
          "name": "stdout",
          "text": [
            "+----+---+----------+\n",
            "|Name|Age|Experience|\n",
            "+----+---+----------+\n",
            "|Dian| 20|        10|\n",
            "|Awan| 19|         2|\n",
            "+----+---+----------+\n",
            "only showing top 2 rows\n",
            "\n"
          ]
        }
      ]
    },
    {
      "cell_type": "markdown",
      "source": [
        "untuk mengambil kolom tertentu bisa memakai `.select('nama kolom')`"
      ],
      "metadata": {
        "id": "ksHfL7IJvbOk"
      }
    },
    {
      "cell_type": "code",
      "source": [
        "df.select('Name').show()"
      ],
      "metadata": {
        "id": "xYSBQAFbu7Rw",
        "colab": {
          "base_uri": "https://localhost:8080/"
        },
        "outputId": "2240c278-38b8-451e-8704-0e08979cc620"
      },
      "execution_count": null,
      "outputs": [
        {
          "output_type": "stream",
          "name": "stdout",
          "text": [
            "+----+\n",
            "|Name|\n",
            "+----+\n",
            "|Dian|\n",
            "|Awan|\n",
            "|Ayen|\n",
            "|Amal|\n",
            "+----+\n",
            "\n"
          ]
        }
      ]
    },
    {
      "cell_type": "code",
      "source": [
        "type(df.select('Name'))"
      ],
      "metadata": {
        "id": "6Nh2FchCvj48",
        "colab": {
          "base_uri": "https://localhost:8080/"
        },
        "outputId": "119a2c23-0b8a-4ebd-8bee-a2c1c42930d7"
      },
      "execution_count": null,
      "outputs": [
        {
          "output_type": "execute_result",
          "data": {
            "text/plain": [
              "pyspark.sql.dataframe.DataFrame"
            ]
          },
          "metadata": {},
          "execution_count": 29
        }
      ]
    },
    {
      "cell_type": "code",
      "source": [
        "# mengambil 2 kolom\n",
        "df.select(['Name','Experience']).show()"
      ],
      "metadata": {
        "colab": {
          "base_uri": "https://localhost:8080/"
        },
        "id": "YoH5QF0ny-Oz",
        "outputId": "8c33b7dc-0380-450e-9f0c-fd9fb704b597"
      },
      "execution_count": null,
      "outputs": [
        {
          "output_type": "stream",
          "name": "stdout",
          "text": [
            "+----+----------+\n",
            "|Name|Experience|\n",
            "+----+----------+\n",
            "|Dian|        10|\n",
            "|Awan|         2|\n",
            "|Ayen|         8|\n",
            "|Amal|         4|\n",
            "+----+----------+\n",
            "\n"
          ]
        }
      ]
    },
    {
      "cell_type": "code",
      "source": [
        "df.dtypes # mengecek tipe data dari setiap kolom dalam DataFrame."
      ],
      "metadata": {
        "colab": {
          "base_uri": "https://localhost:8080/"
        },
        "id": "lr_tblrQzF_n",
        "outputId": "1076fd91-7b71-48ef-d365-7499f268193e"
      },
      "execution_count": null,
      "outputs": [
        {
          "output_type": "execute_result",
          "data": {
            "text/plain": [
              "[('Name', 'string'), ('Age', 'int'), ('Experience', 'int')]"
            ]
          },
          "metadata": {},
          "execution_count": 32
        }
      ]
    },
    {
      "cell_type": "markdown",
      "source": [
        "cek describe data menggunakan .describe"
      ],
      "metadata": {
        "id": "s0_QrXZJ0Dyg"
      }
    },
    {
      "cell_type": "code",
      "source": [
        "df.describe().show()"
      ],
      "metadata": {
        "colab": {
          "base_uri": "https://localhost:8080/"
        },
        "id": "13ERqTytzvHf",
        "outputId": "75737474-8169-4d0f-9145-3ecea0d1da4f"
      },
      "execution_count": null,
      "outputs": [
        {
          "output_type": "stream",
          "name": "stdout",
          "text": [
            "+-------+----+-----------------+------------------+\n",
            "|summary|Name|              Age|        Experience|\n",
            "+-------+----+-----------------+------------------+\n",
            "|  count|   4|                4|                 4|\n",
            "|   mean|NULL|            17.75|               6.0|\n",
            "| stddev|NULL|5.315072906367325|3.6514837167011076|\n",
            "|    min|Amal|               10|                 2|\n",
            "|    max|Dian|               22|                10|\n",
            "+-------+----+-----------------+------------------+\n",
            "\n"
          ]
        }
      ]
    },
    {
      "cell_type": "markdown",
      "source": [
        "adding and dropping colomns"
      ],
      "metadata": {
        "id": "DmpDHWEK0ej2"
      }
    },
    {
      "cell_type": "code",
      "source": [
        "# menambahkan kolom\n",
        "df_baru = df.withColumn('Experience after 2 years', df['Experience']+2)\n",
        "df_baru.show()"
      ],
      "metadata": {
        "colab": {
          "base_uri": "https://localhost:8080/"
        },
        "id": "gPQcvT0X0KJ-",
        "outputId": "57959f57-acc3-44b2-f789-394fae16a8b0"
      },
      "execution_count": null,
      "outputs": [
        {
          "output_type": "stream",
          "name": "stdout",
          "text": [
            "+----+---+----------+------------------------+\n",
            "|Name|Age|Experience|Experience after 2 years|\n",
            "+----+---+----------+------------------------+\n",
            "|Dian| 20|        10|                      12|\n",
            "|Awan| 19|         2|                       4|\n",
            "|Ayen| 10|         8|                      10|\n",
            "|Amal| 22|         4|                       6|\n",
            "+----+---+----------+------------------------+\n",
            "\n"
          ]
        }
      ]
    },
    {
      "cell_type": "code",
      "source": [
        "# bisa juga seperti ini\n",
        "# menambahkan kolom\n",
        "df.withColumn('Experience after 2 years', df.Experience + 2).show()"
      ],
      "metadata": {
        "colab": {
          "base_uri": "https://localhost:8080/"
        },
        "id": "NIeBHj9k0uzG",
        "outputId": "d151d5d5-1ba1-405b-fba3-31569382b6e1"
      },
      "execution_count": null,
      "outputs": [
        {
          "output_type": "stream",
          "name": "stdout",
          "text": [
            "+----+---+----------+------------------------+\n",
            "|Name|Age|Experience|Experience after 2 years|\n",
            "+----+---+----------+------------------------+\n",
            "|Dian| 20|        10|                      12|\n",
            "|Awan| 19|         2|                       4|\n",
            "|Ayen| 10|         8|                      10|\n",
            "|Amal| 22|         4|                       6|\n",
            "+----+---+----------+------------------------+\n",
            "\n"
          ]
        }
      ]
    },
    {
      "cell_type": "code",
      "source": [
        "# menghapus kolom\n",
        "df_baru.drop('Age').show()"
      ],
      "metadata": {
        "colab": {
          "base_uri": "https://localhost:8080/"
        },
        "id": "A7jWywFF1S_n",
        "outputId": "81f2c961-7e39-4388-8dc9-b1c3d42df7fc"
      },
      "execution_count": null,
      "outputs": [
        {
          "output_type": "stream",
          "name": "stdout",
          "text": [
            "+----+----------+------------------------+\n",
            "|Name|Experience|Experience after 2 years|\n",
            "+----+----------+------------------------+\n",
            "|Dian|        10|                      12|\n",
            "|Awan|         2|                       4|\n",
            "|Ayen|         8|                      10|\n",
            "|Amal|         4|                       6|\n",
            "+----+----------+------------------------+\n",
            "\n"
          ]
        }
      ]
    },
    {
      "cell_type": "code",
      "source": [
        "# rename nama kolom\n",
        "df_baru.withColumnRenamed('Experience', 'Pengalaman').show()"
      ],
      "metadata": {
        "colab": {
          "base_uri": "https://localhost:8080/"
        },
        "id": "jddC5qt41dY4",
        "outputId": "cbbb6b73-9625-4dca-d999-974f629e9b14"
      },
      "execution_count": null,
      "outputs": [
        {
          "output_type": "stream",
          "name": "stdout",
          "text": [
            "+----+---+----------+------------------------+\n",
            "|Name|Age|Pengalaman|Experience after 2 years|\n",
            "+----+---+----------+------------------------+\n",
            "|Dian| 20|        10|                      12|\n",
            "|Awan| 19|         2|                       4|\n",
            "|Ayen| 10|         8|                      10|\n",
            "|Amal| 22|         4|                       6|\n",
            "+----+---+----------+------------------------+\n",
            "\n"
          ]
        }
      ]
    },
    {
      "cell_type": "code",
      "source": [],
      "metadata": {
        "id": "sw0x9yBG1zXl"
      },
      "execution_count": null,
      "outputs": []
    }
  ]
}