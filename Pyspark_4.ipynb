{
  "nbformat": 4,
  "nbformat_minor": 0,
  "metadata": {
    "colab": {
      "provenance": []
    },
    "kernelspec": {
      "name": "python3",
      "display_name": "Python 3"
    },
    "language_info": {
      "name": "python"
    }
  },
  "cells": [
    {
      "cell_type": "markdown",
      "source": [
        "## Filter Operation"
      ],
      "metadata": {
        "id": "rvT2afTFibCL"
      }
    },
    {
      "cell_type": "markdown",
      "source": [
        "- Filter Operation\n",
        "- &, |, ==\n",
        "- ~\n"
      ],
      "metadata": {
        "id": "JWushYYWkGsj"
      }
    },
    {
      "cell_type": "code",
      "source": [
        "! pip install pyspark"
      ],
      "metadata": {
        "colab": {
          "base_uri": "https://localhost:8080/"
        },
        "id": "7B3XlZkOidtD",
        "outputId": "094875e7-d50c-40bb-9385-619be902798a"
      },
      "execution_count": null,
      "outputs": [
        {
          "output_type": "stream",
          "name": "stdout",
          "text": [
            "Collecting pyspark\n",
            "  Downloading pyspark-3.5.0.tar.gz (316.9 MB)\n",
            "\u001b[2K     \u001b[90m━━━━━━━━━━━━━━━━━━━━━━━━━━━━━━━━━━━━━━━━\u001b[0m \u001b[32m316.9/316.9 MB\u001b[0m \u001b[31m2.1 MB/s\u001b[0m eta \u001b[36m0:00:00\u001b[0m\n",
            "\u001b[?25h  Preparing metadata (setup.py) ... \u001b[?25l\u001b[?25hdone\n",
            "Requirement already satisfied: py4j==0.10.9.7 in /usr/local/lib/python3.10/dist-packages (from pyspark) (0.10.9.7)\n",
            "Building wheels for collected packages: pyspark\n",
            "  Building wheel for pyspark (setup.py) ... \u001b[?25l\u001b[?25hdone\n",
            "  Created wheel for pyspark: filename=pyspark-3.5.0-py2.py3-none-any.whl size=317425345 sha256=1b6f2a05788d62dcc49f049d899a427c42e973385161653e768c7c18f885b01b\n",
            "  Stored in directory: /root/.cache/pip/wheels/41/4e/10/c2cf2467f71c678cfc8a6b9ac9241e5e44a01940da8fbb17fc\n",
            "Successfully built pyspark\n",
            "Installing collected packages: pyspark\n",
            "Successfully installed pyspark-3.5.0\n"
          ]
        }
      ]
    },
    {
      "cell_type": "code",
      "source": [
        "from pyspark.sql import SparkSession\n",
        "spark = SparkSession.builder.appName('Practice').getOrCreate()\n",
        "spark"
      ],
      "metadata": {
        "colab": {
          "base_uri": "https://localhost:8080/",
          "height": 219
        },
        "id": "IqEP3kLyjH02",
        "outputId": "5d9798d8-ccf6-41ce-9802-2b831a7f47f8"
      },
      "execution_count": null,
      "outputs": [
        {
          "output_type": "execute_result",
          "data": {
            "text/plain": [
              "<pyspark.sql.session.SparkSession at 0x7ff3bf284fa0>"
            ],
            "text/html": [
              "\n",
              "            <div>\n",
              "                <p><b>SparkSession - in-memory</b></p>\n",
              "                \n",
              "        <div>\n",
              "            <p><b>SparkContext</b></p>\n",
              "\n",
              "            <p><a href=\"http://65e29ebc5a79:4040\">Spark UI</a></p>\n",
              "\n",
              "            <dl>\n",
              "              <dt>Version</dt>\n",
              "                <dd><code>v3.5.0</code></dd>\n",
              "              <dt>Master</dt>\n",
              "                <dd><code>local[*]</code></dd>\n",
              "              <dt>AppName</dt>\n",
              "                <dd><code>Practice</code></dd>\n",
              "            </dl>\n",
              "        </div>\n",
              "        \n",
              "            </div>\n",
              "        "
            ]
          },
          "metadata": {},
          "execution_count": 2
        }
      ]
    },
    {
      "cell_type": "code",
      "source": [
        "df = spark.read.csv('practice 4.csv', sep = ';', header = 'true',inferSchema = 'true')\n",
        "df.show()"
      ],
      "metadata": {
        "colab": {
          "base_uri": "https://localhost:8080/"
        },
        "id": "6QxIxU8DjID9",
        "outputId": "f4409efa-a591-48b0-dabc-1c6d6fa8f156"
      },
      "execution_count": null,
      "outputs": [
        {
          "output_type": "stream",
          "name": "stdout",
          "text": [
            "+------+---+----------+------+\n",
            "|  Name|Age|Experience|Salary|\n",
            "+------+---+----------+------+\n",
            "|  Dian| 12|         3| 40000|\n",
            "|  Awan| 31|         4| 12000|\n",
            "|  Ayen| 41|         1| 20200|\n",
            "| Aksal| 73|         3|  2100|\n",
            "|renita| 23|         2|   520|\n",
            "+------+---+----------+------+\n",
            "\n"
          ]
        }
      ]
    },
    {
      "cell_type": "markdown",
      "source": [
        "### Filter Operation"
      ],
      "metadata": {
        "id": "Oe6pMFy7nShr"
      }
    },
    {
      "cell_type": "code",
      "source": [
        "# salary of the people less than or equal to 20000\n",
        "df.filter('Salary<=2000').show()"
      ],
      "metadata": {
        "colab": {
          "base_uri": "https://localhost:8080/"
        },
        "id": "7bYq5ibUjIJJ",
        "outputId": "95a1f507-9bf6-4c39-c16f-825c8feb4268"
      },
      "execution_count": null,
      "outputs": [
        {
          "output_type": "stream",
          "name": "stdout",
          "text": [
            "+------+---+----------+------+\n",
            "|  Name|Age|Experience|Salary|\n",
            "+------+---+----------+------+\n",
            "|renita| 23|         2|   520|\n",
            "+------+---+----------+------+\n",
            "\n"
          ]
        }
      ]
    },
    {
      "cell_type": "code",
      "source": [
        "# salary of the people less than or equal to 20000\n",
        "df.filter(df['Salary']<=20000).show()"
      ],
      "metadata": {
        "colab": {
          "base_uri": "https://localhost:8080/"
        },
        "id": "LC1co4zQo0nN",
        "outputId": "863c7ce1-a287-486c-be57-41b01cf8e06c"
      },
      "execution_count": null,
      "outputs": [
        {
          "output_type": "stream",
          "name": "stdout",
          "text": [
            "+------+---+----------+------+\n",
            "|  Name|Age|Experience|Salary|\n",
            "+------+---+----------+------+\n",
            "|  Awan| 31|         4| 12000|\n",
            "| Aksal| 73|         3|  2100|\n",
            "|renita| 23|         2|   520|\n",
            "+------+---+----------+------+\n",
            "\n"
          ]
        }
      ]
    },
    {
      "cell_type": "code",
      "source": [
        "# filtering in specific columns\n",
        "df.filter(\"Salary <=20000\").select(['Name','Age']).show()"
      ],
      "metadata": {
        "colab": {
          "base_uri": "https://localhost:8080/"
        },
        "id": "m2faQ0TmjIME",
        "outputId": "77f861eb-3aca-4645-b905-5a7aa744bd9a"
      },
      "execution_count": null,
      "outputs": [
        {
          "output_type": "stream",
          "name": "stdout",
          "text": [
            "+------+---+\n",
            "|  Name|Age|\n",
            "+------+---+\n",
            "|  Awan| 31|\n",
            "| Aksal| 73|\n",
            "|renita| 23|\n",
            "+------+---+\n",
            "\n"
          ]
        }
      ]
    },
    {
      "cell_type": "code",
      "source": [
        "# put 2 different condition 'AND'\n",
        "df.filter((df['Salary']<=20000) & (df['Age']>20)).show()"
      ],
      "metadata": {
        "colab": {
          "base_uri": "https://localhost:8080/"
        },
        "id": "ccjVlKjPjIOa",
        "outputId": "9060b773-ac83-4dc7-9cc5-f4abb9a5e3f3"
      },
      "execution_count": null,
      "outputs": [
        {
          "output_type": "stream",
          "name": "stdout",
          "text": [
            "+------+---+----------+------+\n",
            "|  Name|Age|Experience|Salary|\n",
            "+------+---+----------+------+\n",
            "|  Awan| 31|         4| 12000|\n",
            "| Aksal| 73|         3|  2100|\n",
            "|renita| 23|         2|   520|\n",
            "+------+---+----------+------+\n",
            "\n"
          ]
        }
      ]
    },
    {
      "cell_type": "code",
      "source": [
        "# put 2 different condition 'OR'\n",
        "df.filter((df['Salary']<=20000) | (df['Experience']< 2)).show()"
      ],
      "metadata": {
        "colab": {
          "base_uri": "https://localhost:8080/"
        },
        "id": "Pvy8a3ecoziT",
        "outputId": "1b3e430e-e777-40d5-e638-b928a92d2cc1"
      },
      "execution_count": null,
      "outputs": [
        {
          "output_type": "stream",
          "name": "stdout",
          "text": [
            "+------+---+----------+------+\n",
            "|  Name|Age|Experience|Salary|\n",
            "+------+---+----------+------+\n",
            "|  Awan| 31|         4| 12000|\n",
            "|  Ayen| 41|         1| 20200|\n",
            "| Aksal| 73|         3|  2100|\n",
            "|renita| 23|         2|   520|\n",
            "+------+---+----------+------+\n",
            "\n"
          ]
        }
      ]
    },
    {
      "cell_type": "code",
      "source": [
        "# inverse condition\n",
        "# salary of the people not less than or equal to 20000\n",
        "df.filter(~(df['Salary']<=20000)).show()"
      ],
      "metadata": {
        "colab": {
          "base_uri": "https://localhost:8080/"
        },
        "id": "FgQfCm4YpXOI",
        "outputId": "69304846-61e4-4133-e45d-9e06161d0a84"
      },
      "execution_count": null,
      "outputs": [
        {
          "output_type": "stream",
          "name": "stdout",
          "text": [
            "+----+---+----------+------+\n",
            "|Name|Age|Experience|Salary|\n",
            "+----+---+----------+------+\n",
            "|Dian| 12|         3| 40000|\n",
            "|Ayen| 41|         1| 20200|\n",
            "+----+---+----------+------+\n",
            "\n"
          ]
        }
      ]
    },
    {
      "cell_type": "code",
      "source": [
        "# salary of the people less than or equal to 20000\n",
        "df.filter('Salary<=2000').show()"
      ],
      "metadata": {
        "colab": {
          "base_uri": "https://localhost:8080/"
        },
        "id": "ib7Ho1HOpd9U",
        "outputId": "ed17cadf-4e5e-47b5-834d-2379a4282e8f"
      },
      "execution_count": null,
      "outputs": [
        {
          "output_type": "stream",
          "name": "stdout",
          "text": [
            "+------+---+----------+------+\n",
            "|  Name|Age|Experience|Salary|\n",
            "+------+---+----------+------+\n",
            "|  Dian| 12|         3| 40000|\n",
            "|  Awan| 31|         4| 12000|\n",
            "|  Ayen| 41|         1| 20200|\n",
            "| Aksal| 73|         3|  2100|\n",
            "|renita| 23|         2|   520|\n",
            "+------+---+----------+------+\n",
            "\n"
          ]
        }
      ]
    },
    {
      "cell_type": "code",
      "source": [],
      "metadata": {
        "id": "v9E1FMUppkeI"
      },
      "execution_count": null,
      "outputs": []
    }
  ]
}