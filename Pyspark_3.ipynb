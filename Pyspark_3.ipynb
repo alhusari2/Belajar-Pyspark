{
  "nbformat": 4,
  "nbformat_minor": 0,
  "metadata": {
    "colab": {
      "provenance": []
    },
    "kernelspec": {
      "name": "python3",
      "display_name": "Python 3"
    },
    "language_info": {
      "name": "python"
    }
  },
  "cells": [
    {
      "cell_type": "markdown",
      "source": [
        "## Handling Missing Value"
      ],
      "metadata": {
        "id": "AESnmKIqlO0N"
      }
    },
    {
      "cell_type": "markdown",
      "source": [
        "- Dropping Columns\n",
        "- Dropping Rows\n",
        "- Various Parameter in Dropping Functionalities\n",
        "- handling Missing by Mean"
      ],
      "metadata": {
        "id": "fCmlIJhXle_e"
      }
    },
    {
      "cell_type": "code",
      "source": [
        "! pip install pyspark"
      ],
      "metadata": {
        "id": "e565001jDQnw"
      },
      "execution_count": null,
      "outputs": []
    },
    {
      "cell_type": "code",
      "source": [
        "from pyspark.sql import SparkSession\n",
        "spark = SparkSession.builder.appName('Practice').getOrCreate()\n",
        "spark"
      ],
      "metadata": {
        "colab": {
          "base_uri": "https://localhost:8080/",
          "height": 219
        },
        "id": "yD4WyGrjlNKm",
        "outputId": "5efdc7f8-ab4e-4847-de65-cc2a11e44e96"
      },
      "execution_count": null,
      "outputs": [
        {
          "output_type": "execute_result",
          "data": {
            "text/plain": [
              "<pyspark.sql.session.SparkSession at 0x788928080f40>"
            ],
            "text/html": [
              "\n",
              "            <div>\n",
              "                <p><b>SparkSession - in-memory</b></p>\n",
              "                \n",
              "        <div>\n",
              "            <p><b>SparkContext</b></p>\n",
              "\n",
              "            <p><a href=\"http://3ef9b7641408:4040\">Spark UI</a></p>\n",
              "\n",
              "            <dl>\n",
              "              <dt>Version</dt>\n",
              "                <dd><code>v3.5.0</code></dd>\n",
              "              <dt>Master</dt>\n",
              "                <dd><code>local[*]</code></dd>\n",
              "              <dt>AppName</dt>\n",
              "                <dd><code>Practice</code></dd>\n",
              "            </dl>\n",
              "        </div>\n",
              "        \n",
              "            </div>\n",
              "        "
            ]
          },
          "metadata": {},
          "execution_count": 2
        }
      ]
    },
    {
      "cell_type": "code",
      "source": [
        "df = spark.read.csv('practice 3.csv',sep=';', header=True, inferSchema=True)\n",
        "df.show()"
      ],
      "metadata": {
        "colab": {
          "base_uri": "https://localhost:8080/"
        },
        "id": "QqwLyRYYoQoO",
        "outputId": "100ea7eb-c21f-4d26-db89-32807fca8d28"
      },
      "execution_count": null,
      "outputs": [
        {
          "output_type": "stream",
          "name": "stdout",
          "text": [
            "+------+---+----------+------+\n",
            "|  Name|Age|Experience|Salary|\n",
            "+------+---+----------+------+\n",
            "|  Dian| 12|         3| 40000|\n",
            "|  Awan| 31|         4| 12000|\n",
            "|  Ayen| 41|         1| 20200|\n",
            "| Aksal| 73|         3|  2100|\n",
            "|renita| 23|      NULL|   520|\n",
            "|  NULL| 22|         3|  2321|\n",
            "|  NULL| 13|      NULL| 29012|\n",
            "+------+---+----------+------+\n",
            "\n"
          ]
        }
      ]
    },
    {
      "cell_type": "code",
      "source": [
        "# Drop the columns\n",
        "df.drop('Name').show()"
      ],
      "metadata": {
        "colab": {
          "base_uri": "https://localhost:8080/"
        },
        "id": "rv3MQNYColh8",
        "outputId": "5359d5b2-8ce7-40f0-c550-810e53292639"
      },
      "execution_count": null,
      "outputs": [
        {
          "output_type": "stream",
          "name": "stdout",
          "text": [
            "+---+----------+------+\n",
            "|Age|Experience|Salary|\n",
            "+---+----------+------+\n",
            "| 12|         3| 40000|\n",
            "| 31|         4| 12000|\n",
            "| 41|         1| 20200|\n",
            "| 73|         3|  2100|\n",
            "| 23|      NULL|   520|\n",
            "| 22|         3|  2321|\n",
            "| 13|      NULL| 29012|\n",
            "+---+----------+------+\n",
            "\n"
          ]
        }
      ]
    },
    {
      "cell_type": "code",
      "source": [
        "# drop row missing value\n",
        "df.na.drop().show()"
      ],
      "metadata": {
        "colab": {
          "base_uri": "https://localhost:8080/"
        },
        "id": "Nkgy_wNZpD_C",
        "outputId": "d756fbe2-21dd-46ab-cbad-53457f2894d9"
      },
      "execution_count": null,
      "outputs": [
        {
          "output_type": "stream",
          "name": "stdout",
          "text": [
            "+-----+---+----------+------+\n",
            "| Name|Age|Experience|Salary|\n",
            "+-----+---+----------+------+\n",
            "| Dian| 12|         3| 40000|\n",
            "| Awan| 31|         4| 12000|\n",
            "| Ayen| 41|         1| 20200|\n",
            "|Aksal| 73|         3|  2100|\n",
            "+-----+---+----------+------+\n",
            "\n"
          ]
        }
      ]
    },
    {
      "cell_type": "markdown",
      "source": [
        "Parameters\n",
        "how : str, optional\n",
        "    'any' or 'all'. If 'any', drop a row if it contains any nulls. If 'all', drop a row only if all its values are null."
      ],
      "metadata": {
        "id": "b2bU-YgjscIO"
      }
    },
    {
      "cell_type": "code",
      "source": [
        "# drop use how='any'\n",
        "df.na.drop(how='any').show()"
      ],
      "metadata": {
        "colab": {
          "base_uri": "https://localhost:8080/"
        },
        "id": "GRnBu_i8pZr9",
        "outputId": "ccf72f2a-3ed2-46b8-e27f-c59aff2c2d22"
      },
      "execution_count": null,
      "outputs": [
        {
          "output_type": "stream",
          "name": "stdout",
          "text": [
            "+-----+---+----------+------+\n",
            "| Name|Age|Experience|Salary|\n",
            "+-----+---+----------+------+\n",
            "| Dian| 12|         3| 40000|\n",
            "| Awan| 31|         4| 12000|\n",
            "| Ayen| 41|         1| 20200|\n",
            "|Aksal| 73|         3|  2100|\n",
            "+-----+---+----------+------+\n",
            "\n"
          ]
        }
      ]
    },
    {
      "cell_type": "code",
      "source": [
        "# drop use how='all'\n",
        "df.na.drop(how='all').show()"
      ],
      "metadata": {
        "colab": {
          "base_uri": "https://localhost:8080/"
        },
        "id": "4zUzwFO7sfQP",
        "outputId": "dd88f132-7fc9-42ca-bc2e-dddeb57698a2"
      },
      "execution_count": null,
      "outputs": [
        {
          "output_type": "stream",
          "name": "stdout",
          "text": [
            "+------+---+----------+------+\n",
            "|  Name|Age|Experience|Salary|\n",
            "+------+---+----------+------+\n",
            "|  Dian| 12|         3| 40000|\n",
            "|  Awan| 31|         4| 12000|\n",
            "|  Ayen| 41|         1| 20200|\n",
            "| Aksal| 73|         3|  2100|\n",
            "|renita| 23|      NULL|   520|\n",
            "|  NULL| 22|         3|  2321|\n",
            "|  NULL| 13|      NULL| 29012|\n",
            "+------+---+----------+------+\n",
            "\n"
          ]
        }
      ]
    },
    {
      "cell_type": "code",
      "source": [
        "# parameter threshold\n",
        "# delete null value with condition min non missing value\n",
        "df.na.drop(how='any', thresh=3).show()\n",
        "print('the last row is deleted because the min non missing value is 3, while in the last row they are only 2 non value ')"
      ],
      "metadata": {
        "colab": {
          "base_uri": "https://localhost:8080/"
        },
        "id": "XjUyPh6usiDU",
        "outputId": "382da4c8-578c-484c-dff6-70f76c070445"
      },
      "execution_count": null,
      "outputs": [
        {
          "output_type": "stream",
          "name": "stdout",
          "text": [
            "+------+---+----------+------+\n",
            "|  Name|Age|Experience|Salary|\n",
            "+------+---+----------+------+\n",
            "|  Dian| 12|         3| 40000|\n",
            "|  Awan| 31|         4| 12000|\n",
            "|  Ayen| 41|         1| 20200|\n",
            "| Aksal| 73|         3|  2100|\n",
            "|renita| 23|      NULL|   520|\n",
            "|  NULL| 22|         3|  2321|\n",
            "+------+---+----------+------+\n",
            "\n",
            "the last row is deleted because min non missing value is 3, while in last row they just have 2 non value \n"
          ]
        }
      ]
    },
    {
      "cell_type": "code",
      "source": [
        "# parameter subset\n",
        "# delete null value in a specific columns\n",
        "df.na.drop(how='any', subset=['Experience']).show()"
      ],
      "metadata": {
        "colab": {
          "base_uri": "https://localhost:8080/"
        },
        "id": "BxrQLvhgusXf",
        "outputId": "f398aa60-a801-4ca1-d1d0-e989d1785bda"
      },
      "execution_count": null,
      "outputs": [
        {
          "output_type": "stream",
          "name": "stdout",
          "text": [
            "+-----+---+----------+------+\n",
            "| Name|Age|Experience|Salary|\n",
            "+-----+---+----------+------+\n",
            "| Dian| 12|         3| 40000|\n",
            "| Awan| 31|         4| 12000|\n",
            "| Ayen| 41|         1| 20200|\n",
            "|Aksal| 73|         3|  2100|\n",
            "| NULL| 22|         3|  2321|\n",
            "+-----+---+----------+------+\n",
            "\n"
          ]
        }
      ]
    },
    {
      "cell_type": "code",
      "source": [
        "df.na.drop(how='any', subset=['Name']).show()"
      ],
      "metadata": {
        "colab": {
          "base_uri": "https://localhost:8080/"
        },
        "id": "_8UDMWvwvJph",
        "outputId": "081fbbfa-b22c-4c39-c4fe-bc0243b1bc3a"
      },
      "execution_count": null,
      "outputs": [
        {
          "output_type": "stream",
          "name": "stdout",
          "text": [
            "+------+---+----------+------+\n",
            "|  Name|Age|Experience|Salary|\n",
            "+------+---+----------+------+\n",
            "|  Dian| 12|         3| 40000|\n",
            "|  Awan| 31|         4| 12000|\n",
            "|  Ayen| 41|         1| 20200|\n",
            "| Aksal| 73|         3|  2100|\n",
            "|renita| 23|      NULL|   520|\n",
            "+------+---+----------+------+\n",
            "\n"
          ]
        }
      ]
    },
    {
      "cell_type": "code",
      "source": [
        "# Filling the Missing Value\n",
        "df.na.fill('Missing Values').show()"
      ],
      "metadata": {
        "colab": {
          "base_uri": "https://localhost:8080/"
        },
        "id": "C9RNbdBYvQ3V",
        "outputId": "109d59a5-e7c3-48f7-dad7-e78338ee8b99"
      },
      "execution_count": null,
      "outputs": [
        {
          "output_type": "stream",
          "name": "stdout",
          "text": [
            "+--------------+---+----------+------+\n",
            "|          Name|Age|Experience|Salary|\n",
            "+--------------+---+----------+------+\n",
            "|          Dian| 12|         3| 40000|\n",
            "|          Awan| 31|         4| 12000|\n",
            "|          Ayen| 41|         1| 20200|\n",
            "|         Aksal| 73|         3|  2100|\n",
            "|        renita| 23|      NULL|   520|\n",
            "|Missing Values| 22|         3|  2321|\n",
            "|Missing Values| 13|      NULL| 29012|\n",
            "+--------------+---+----------+------+\n",
            "\n"
          ]
        }
      ]
    },
    {
      "cell_type": "code",
      "source": [
        "# Filling the Missing Value in specific columns\n",
        "df.na.fill('Missing Values',['Experience','Age']).show()"
      ],
      "metadata": {
        "colab": {
          "base_uri": "https://localhost:8080/"
        },
        "id": "sLs-9d41vbJO",
        "outputId": "9231f34c-4b5f-4c92-ee00-ef9874c1b1e9"
      },
      "execution_count": null,
      "outputs": [
        {
          "output_type": "stream",
          "name": "stdout",
          "text": [
            "+------+---+----------+------+\n",
            "|  Name|Age|Experience|Salary|\n",
            "+------+---+----------+------+\n",
            "|  Dian| 12|         3| 40000|\n",
            "|  Awan| 31|         4| 12000|\n",
            "|  Ayen| 41|         1| 20200|\n",
            "| Aksal| 73|         3|  2100|\n",
            "|renita| 23|      NULL|   520|\n",
            "|  NULL| 22|         3|  2321|\n",
            "|  NULL| 13|      NULL| 29012|\n",
            "+------+---+----------+------+\n",
            "\n"
          ]
        }
      ]
    },
    {
      "cell_type": "code",
      "source": [
        "# Filling the Missing Value with mean\n",
        "from pyspark.ml.feature import Imputer\n",
        "\n",
        "imputer = Imputer(\n",
        "    inputCols = ['Age','Experience','Salary'],\n",
        "    outputCols = ['{}_imputed mean'.format(c) for c in ['Age','Experience','Salary']]\n",
        ").setStrategy('mean')\n"
      ],
      "metadata": {
        "id": "CPRDfZa21aJV"
      },
      "execution_count": null,
      "outputs": []
    },
    {
      "cell_type": "code",
      "source": [
        "# add imputation cols to df\n",
        "imputer.fit(df).transform(df).show()"
      ],
      "metadata": {
        "colab": {
          "base_uri": "https://localhost:8080/"
        },
        "id": "v0A3elBz15JY",
        "outputId": "7b608cb3-b7e3-4e47-8ace-0c69ccdb0a7d"
      },
      "execution_count": null,
      "outputs": [
        {
          "output_type": "stream",
          "name": "stdout",
          "text": [
            "+------+---+----------+------+----------------+-----------------------+-------------------+\n",
            "|  Name|Age|Experience|Salary|Age_imputed mean|Experience_imputed mean|Salary_imputed mean|\n",
            "+------+---+----------+------+----------------+-----------------------+-------------------+\n",
            "|  Dian| 12|         3| 40000|              12|                      3|              40000|\n",
            "|  Awan| 31|         4| 12000|              31|                      4|              12000|\n",
            "|  Ayen| 41|         1| 20200|              41|                      1|              20200|\n",
            "| Aksal| 73|         3|  2100|              73|                      3|               2100|\n",
            "|renita| 23|      NULL|   520|              23|                      2|                520|\n",
            "|  NULL| 22|         3|  2321|              22|                      3|               2321|\n",
            "|  NULL| 13|      NULL| 29012|              13|                      2|              29012|\n",
            "+------+---+----------+------+----------------+-----------------------+-------------------+\n",
            "\n"
          ]
        }
      ]
    },
    {
      "cell_type": "code",
      "source": [
        "# Filling the Missing Value with median\n",
        "from pyspark.ml.feature import Imputer\n",
        "\n",
        "imputer = Imputer(\n",
        "    inputCols = ['Age','Experience','Salary'],\n",
        "    outputCols = ['{}_imputed median'.format(c) for c in ['Age','Experience','Salary']]\n",
        ").setStrategy('median')\n"
      ],
      "metadata": {
        "id": "iOuIGlGA2Luc"
      },
      "execution_count": null,
      "outputs": []
    },
    {
      "cell_type": "code",
      "source": [
        "# add imputation cols to df\n",
        "imputer.fit(df).transform(df).show()"
      ],
      "metadata": {
        "colab": {
          "base_uri": "https://localhost:8080/"
        },
        "id": "q6Uv24wW2hwt",
        "outputId": "2fc8e208-ac66-496d-d574-3c00eb507796"
      },
      "execution_count": null,
      "outputs": [
        {
          "output_type": "stream",
          "name": "stdout",
          "text": [
            "+------+---+----------+------+------------------+-------------------------+---------------------+\n",
            "|  Name|Age|Experience|Salary|Age_imputed median|Experience_imputed median|Salary_imputed median|\n",
            "+------+---+----------+------+------------------+-------------------------+---------------------+\n",
            "|  Dian| 12|         3| 40000|                12|                        3|                40000|\n",
            "|  Awan| 31|         4| 12000|                31|                        4|                12000|\n",
            "|  Ayen| 41|         1| 20200|                41|                        1|                20200|\n",
            "| Aksal| 73|         3|  2100|                73|                        3|                 2100|\n",
            "|renita| 23|      NULL|   520|                23|                        3|                  520|\n",
            "|  NULL| 22|         3|  2321|                22|                        3|                 2321|\n",
            "|  NULL| 13|      NULL| 29012|                13|                        3|                29012|\n",
            "+------+---+----------+------+------------------+-------------------------+---------------------+\n",
            "\n"
          ]
        }
      ]
    }
  ]
}